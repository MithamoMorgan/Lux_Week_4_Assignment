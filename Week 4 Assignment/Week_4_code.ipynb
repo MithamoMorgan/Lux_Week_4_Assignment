{
 "cells": [
  {
   "cell_type": "markdown",
   "id": "2cbeb8e5-2cdd-4866-bc81-2822be1b1b76",
   "metadata": {},
   "source": [
    "## Q1. Write a Python program to check whether a string is a palindrome or not using a stack."
   ]
  },
  {
   "cell_type": "code",
   "execution_count": 22,
   "id": "8152f076-4fad-454c-a3e9-7c89f1fc25ed",
   "metadata": {},
   "outputs": [
    {
     "name": "stdout",
     "output_type": "stream",
     "text": [
      "True\n",
      "False\n"
     ]
    }
   ],
   "source": [
    "# A palindrome is a string that reads the same backward as forward.\n",
    "def is_palindrome(s):\n",
    "    # Create a stack\n",
    "    stack = []\n",
    "    \n",
    "    # Push all characters of the string onto the stack\n",
    "    for char in s:\n",
    "        stack.append(char)\n",
    "    \n",
    "    # Check if characters from the stack match the original string\n",
    "    for char in s:\n",
    "        if char != stack.pop():\n",
    "            return False\n",
    "    \n",
    "    return True\n",
    "\n",
    "# Example usage\n",
    "print(is_palindrome(\"civic\"))\n",
    "print(is_palindrome(\"honda\"))"
   ]
  },
  {
   "cell_type": "markdown",
   "id": "42121d8c-c4d3-4391-b02c-adbd0e8723ed",
   "metadata": {},
   "source": [
    "## Q2. Explain the concept of list comprehension in Python with at least three examples."
   ]
  },
  {
   "cell_type": "raw",
   "id": "c34c9b4f-4c1f-4268-bc17-b7d5d5352800",
   "metadata": {},
   "source": [
    "List comprehension is an easy to read, compact, and elegant way of creating a list from any existing iterable object. Basically, it's a simpler way to create a new list from the values in a list you already have. It is generally a single line of code enclosed in square brackets."
   ]
  },
  {
   "cell_type": "code",
   "execution_count": 12,
   "id": "cd905e2a-d85b-423c-8d3f-5da4cf42d335",
   "metadata": {},
   "outputs": [
    {
     "name": "stdout",
     "output_type": "stream",
     "text": [
      "[144, 49, 100, 400, 169]\n"
     ]
    }
   ],
   "source": [
    "# 1.Finding the square of numbers in a list\n",
    "nums = [12, 7, 10, 20, 13]\n",
    "sqrs = [x**2 for x in nums]\n",
    "print(sqrs)"
   ]
  },
  {
   "cell_type": "code",
   "execution_count": 13,
   "id": "66226e9e-71b3-4644-ac22-933007025f74",
   "metadata": {},
   "outputs": [
    {
     "name": "stdout",
     "output_type": "stream",
     "text": [
      "[144, 100, 400]\n"
     ]
    }
   ],
   "source": [
    "# 2. Finding even squares\n",
    "nums = [12, 7, 10, 20, 13]\n",
    "even_sqrs = [x**2 for x in nums if x % 2 == 0]\n",
    "print(even_sqrs) "
   ]
  },
  {
   "cell_type": "code",
   "execution_count": 15,
   "id": "a56aace3-dfca-4fb2-8939-878f3579e556",
   "metadata": {},
   "outputs": [
    {
     "data": {
      "text/plain": [
       "['LUX', 'DATA', 'BOOTCAMP']"
      ]
     },
     "execution_count": 15,
     "metadata": {},
     "output_type": "execute_result"
    }
   ],
   "source": [
    "# 3. Convert a list of strings to upper case\n",
    "words = ['lux', 'data', 'bootcamp']\n",
    "uppercase_words = [word.upper() for word in words]\n",
    "uppercase_words"
   ]
  },
  {
   "cell_type": "markdown",
   "id": "7d335908-3d74-4c89-b389-22e7b63ade20",
   "metadata": {},
   "source": [
    "## Q3. Explain what a compound datatype is in Python with three examples."
   ]
  },
  {
   "cell_type": "raw",
   "id": "4eb61401-9899-4142-9fa3-ee169203cb5b",
   "metadata": {},
   "source": [
    "A compound datatype in Python is a type that can hold multiple values. Examples include lists, tuples, and dictionaries."
   ]
  },
  {
   "cell_type": "markdown",
   "id": "fd44b281-886d-455c-9b5c-630c718344b3",
   "metadata": {},
   "source": [
    "### 1.List:"
   ]
  },
  {
   "cell_type": "code",
   "execution_count": 17,
   "id": "4189ff0a-31dd-4c3a-922f-420b95c4ee8b",
   "metadata": {},
   "outputs": [
    {
     "data": {
      "text/plain": [
       "['Morgan', 'Olive', 'Sawe']"
      ]
     },
     "execution_count": 17,
     "metadata": {},
     "output_type": "execute_result"
    }
   ],
   "source": [
    "name_list = ['Morgan', 'Olive', 'Sawe']\n",
    "name_list"
   ]
  },
  {
   "cell_type": "markdown",
   "id": "59029576-75a7-47bb-a9b2-40a004bab844",
   "metadata": {},
   "source": [
    "### 2.Tuple:"
   ]
  },
  {
   "cell_type": "code",
   "execution_count": 20,
   "id": "bd7a7233-1b8c-4212-a034-21a52b020155",
   "metadata": {},
   "outputs": [
    {
     "data": {
      "text/plain": [
       "('Morgan', 22, 'Python')"
      ]
     },
     "execution_count": 20,
     "metadata": {},
     "output_type": "execute_result"
    }
   ],
   "source": [
    "# similar to a list but is immutable (i.e., it cannot be changed after creation).\n",
    "tuple_1 = (\"Morgan\",22, \"Python\")\n",
    "tuple_1"
   ]
  },
  {
   "cell_type": "markdown",
   "id": "9c94ffa6-75b7-4a40-ac6a-31904ac81bf6",
   "metadata": {},
   "source": [
    "### 3.Dictionary:"
   ]
  },
  {
   "cell_type": "code",
   "execution_count": 21,
   "id": "45b39820-9c31-44ca-a2ec-834d708c84fa",
   "metadata": {},
   "outputs": [
    {
     "data": {
      "text/plain": [
       "{'name': 'Morgan', 'language': 'Python', 'experience': 5}"
      ]
     },
     "execution_count": 21,
     "metadata": {},
     "output_type": "execute_result"
    }
   ],
   "source": [
    "# A dictionary holds key-value pairs, where each key is unique.\n",
    "my_dict = {\"name\": \"Morgan\", \"language\": \"Python\", \"experience\":5}\n",
    "my_dict"
   ]
  },
  {
   "cell_type": "markdown",
   "id": "f330fa52-f9e7-4a57-87df-5a0d509e2176",
   "metadata": {},
   "source": [
    "## 4. Write a function that takes a string and returns a list of bigrams."
   ]
  },
  {
   "cell_type": "code",
   "execution_count": 23,
   "id": "145cc03e-ee67-4d48-9904-d02b3efe808b",
   "metadata": {},
   "outputs": [
    {
     "name": "stdout",
     "output_type": "stream",
     "text": [
      "[('I', 'am'), ('am', 'a'), ('a', 'data'), ('data', 'scientist')]\n"
     ]
    }
   ],
   "source": [
    "# A bigram is a pair of consecutive words or characters.\n",
    "\n",
    "def get_bigrams(s):\n",
    "    # Remove any leading/trailing whitespace and split the string into words\n",
    "    words = s.split()\n",
    "    # Create bigrams\n",
    "    bigrams = [(words[i], words[i+1]) for i in range(len(words)-1)]\n",
    "    return bigrams\n",
    "\n",
    "# Example usage\n",
    "print(get_bigrams(\"I am a data scientist\"))"
   ]
  },
  {
   "cell_type": "markdown",
   "id": "81e0a9f2-3e9d-4824-b7c0-4b35acb82462",
   "metadata": {},
   "source": [
    "## 5). Given a dictionary with keys as letters and values as lists of letters, write a function closest_key to find the key with the input value closest to the beginning of the list."
   ]
  },
  {
   "cell_type": "code",
   "execution_count": 28,
   "id": "da6d0883-109b-40bb-9f44-5b1fdd41cc0f",
   "metadata": {},
   "outputs": [
    {
     "name": "stdin",
     "output_type": "stream",
     "text": [
      "Enter a value:  p\n"
     ]
    },
    {
     "name": "stdout",
     "output_type": "stream",
     "text": [
      "The correct key is: b\n"
     ]
    }
   ],
   "source": [
    "def closest_key(d, value):\n",
    "    min_distance = float('inf')\n",
    "    closest = None\n",
    "    \n",
    "    for key, lst in d.items():\n",
    "        try:\n",
    "            distance = lst.index(value)\n",
    "            if distance < min_distance:\n",
    "                min_distance = distance\n",
    "                closest = key\n",
    "        except ValueError:\n",
    "            # Value is not in the list\n",
    "            continue\n",
    "    \n",
    "    return closest\n",
    "\n",
    "# Example usage\n",
    "my_dict = {\n",
    "    'a': ['m', 'q', 'p'],\n",
    "    'b': ['p', 'l', 'x'],\n",
    "    'c': ['f', 'p']\n",
    "}\n",
    "\n",
    "input_value = input(\"Enter a value: \")\n",
    "print(f\"The correct key is: {closest_key(my_dict, input_value)}\")"
   ]
  },
  {
   "cell_type": "code",
   "execution_count": null,
   "id": "8d7bb51b-957d-45b8-a17c-3ffdc446ca62",
   "metadata": {},
   "outputs": [],
   "source": []
  }
 ],
 "metadata": {
  "kernelspec": {
   "display_name": "Python 3 (ipykernel)",
   "language": "python",
   "name": "python3"
  },
  "language_info": {
   "codemirror_mode": {
    "name": "ipython",
    "version": 3
   },
   "file_extension": ".py",
   "mimetype": "text/x-python",
   "name": "python",
   "nbconvert_exporter": "python",
   "pygments_lexer": "ipython3",
   "version": "3.12.4"
  }
 },
 "nbformat": 4,
 "nbformat_minor": 5
}
